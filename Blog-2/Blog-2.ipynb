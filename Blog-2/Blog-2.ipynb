{
 "cells": [
  {
   "cell_type": "markdown",
   "metadata": {},
   "source": [
    "## **Deep Dive in Machine Learning with Python: Part — II: Getting familiar with Jupyter Notebook**"
   ]
  },
  {
   "cell_type": "markdown",
   "metadata": {},
   "source": [
    "\n",
    "![cover_page](ML_pics/Blog_2_coverpage.JPG)\n",
    "\n",
    "Welcome to the second blog of **Deep Dive in Machine Learning with Python**, I hope you all have python anaconda distribution installed in your system. In case not, then please go through the previous blog **(Deep Dive in ML with Python — Part-I)** where we typically covered a high-level overview of Python & ML, and refer to the anaconda installation links.\n",
    "\n",
    "In this blog, we will cover how to prominently use Jupyter Notebook for coding purposes and execute our first python program. By now, many of you might be wondering:"
   ]
  },
  {
   "cell_type": "markdown",
   "metadata": {},
   "source": [
    "### **Q1. What is Jupyter?**\n",
    "\n",
    "![img2](ML_pics/Blog_img2.gif)\n",
    "\n",
    "In 2014, Fernando Pérez announced a spin-off project from IPython called Project Jupyter.\n",
    "\n",
    "Project Jupyter’s name is a reference to the three core programming languages supported by Jupyter, which are Julia, Python, and R, and also an homage to Galileo’s notebooks recording the discovery of the moons of Jupiter.\n",
    "\n",
    "Jupyter is language agnostic and it supports execution environments (means kernels) in several dozen languages among which are Python, Julia, R, Haskell, Ruby, and others.\n",
    "\n",
    "### **Q2. What is a Jupyter Notebook?**\n",
    "\n",
    "![img3](ML_pics/Blog_img3.JPG)\n",
    "\n",
    "Jupyter Notebook is a web-based data science tool that provides an interactive computational environment for writing code or creating documents. The term “notebook” is closely related to entities like Jupyter web application and Jupyter Python web server.\n",
    "\n",
    "A Jupyter Notebook document is a JSON document, and containing an ordered list of input/output cells that can contain code, text (using Markdown), mathematics, plots, and rich media, usually ending with the “.ipynb” extension. It was formerly known as IPython Notebooks.\n",
    "\n",
    "A Jupyter Notebook can be converted to several pen standard output formats (HTML, presentation slides, LaTeX, PDF, ReStructuredText, Markdown, Python) through “Download As” in the web interface, via the nbconvert library.\n",
    "\n",
    "**Other products**\n",
    "\n",
    "The Jupyter Notebook has become a popular user interface and there are some other products as well like:\n",
    "\n",
    "**JupyterHub**\n",
    "\n",
    "It is a multi-user server for Jupyter Notebooks\n",
    "\n",
    "**JupyterLab**\n",
    "\n",
    "I prefer working on JupyterLab as it offers all the familiar building blocks of the classic Jupyter Notebook (notebook, terminal, text editor, file browser, rich outputs, etc.) in a flexible and powerful user interface\n",
    "\n",
    "**Colaboratory**\n",
    "\n",
    "Colaboratory (also known as Colab) is a free Jupyter notebook environment that runs in the cloud and stores its notebooks on Google Drive. Colab only supports the Python 2 and Python 3 kernels and does not support the other Jupyter kernels Julia and R."
   ]
  },
  {
   "cell_type": "markdown",
   "metadata": {},
   "source": [
    "#### **How to run Jupyter notebook?**"
   ]
  },
  {
   "cell_type": "markdown",
   "metadata": {},
   "source": [
    "**Step 1: Run command prompt**\n",
    "\n",
    "![img1](Blog_2/1_run_cmd.jpg)\n",
    "\n",
    "**Step 2:: Run Jupyter Notebook**\n",
    "\n",
    "![img2](Blog_2/2_run_jupn.jpg)\n",
    "\n",
    "**Step 3:: Jupyter Console**\n",
    "\n",
    "![img3](Blog_2/3_jupyn_console.jpg)\n",
    "\n",
    "**Step 4:: Add a directory via Jupyter console**\n",
    "\n",
    "![img4](Blog_2/4_add_folder.jpg)\n",
    "\n",
    "**Step 5:: Rename a directory via Jupyter console**\n",
    "\n",
    "![img5](Blog_2/5_rename_folder.jpg)\n",
    "\n",
    "**Step 6:: Create Python-3 Jupyter Notebook from console**\n",
    "\n",
    "![img6_1](Blog_2/6_create_notebook.jpg)\n",
    "\n",
    "![img6_2](Blog_2/6_create_notebook2.jpg)\n",
    "\n",
    "**Step 7:: Rename Jupyter notebook**\n",
    "\n",
    "![img7](Blog_2/7_rename_jupyn.jpg))"
   ]
  },
  {
   "cell_type": "markdown",
   "metadata": {},
   "source": [
    "#### **Using Jupyter notebook**"
   ]
  },
  {
   "cell_type": "markdown",
   "metadata": {},
   "source": [
    "![use_jn1](Blog_2/9_abt_jupyn1.jpg)"
   ]
  },
  {
   "cell_type": "markdown",
   "metadata": {},
   "source": [
    "#### **Convert any cell into a Markdown Cell**"
   ]
  },
  {
   "cell_type": "markdown",
   "metadata": {},
   "source": [
    "![pic_abt_jup2](Blog_2/10_abt_jupyn2.jpg)"
   ]
  },
  {
   "cell_type": "markdown",
   "metadata": {},
   "source": [
    "#### **How to write a heading in Markdown cell**"
   ]
  },
  {
   "cell_type": "markdown",
   "metadata": {},
   "source": [
    "![pic_jupny3](Blog_2/11_abt_jupyn2.jpg)"
   ]
  },
  {
   "cell_type": "markdown",
   "metadata": {},
   "source": [
    "#### **How to execute a cell?**"
   ]
  },
  {
   "cell_type": "markdown",
   "metadata": {},
   "source": [
    "You can execute a cell by using 'Ctrl + Enter' or 'Shift + Enter'. \n",
    "\n",
    "**NOTE**\n",
    "\n",
    "**1. 'Ctrl + Enter' :** By using this, control remains on the same cell after its execution\n",
    "\n",
    "**2. 'Shift + Enter' :** By using this, it executes the current cell and control moves on to next cell"
   ]
  },
  {
   "cell_type": "markdown",
   "metadata": {},
   "source": [
    "#### **How to add or delete a cell?**"
   ]
  },
  {
   "cell_type": "markdown",
   "metadata": {},
   "source": [
    "If you want to add a cell above any cell, then select a cell and press 'a' as a keyboard shortcut. Similarly, if you want to a cell below any cell, then press 'b' as a keyboard shortcut.\n",
    "\n",
    "If you want to delete a cell then select a cell and press 'dd' as a keyboard shortcut.\n",
    "\n",
    "**NOTE**\n",
    "\n",
    "**1.** You can use options from menu bar dropdowns for performing these operations. However, I prefer to use keyboard shortcuts. \n",
    "\n",
    "**2.** Refer to Jupyter notebook shortcuts help for more info"
   ]
  },
  {
   "cell_type": "markdown",
   "metadata": {},
   "source": [
    "#### **Run first python program**"
   ]
  },
  {
   "cell_type": "code",
   "execution_count": 1,
   "metadata": {},
   "outputs": [
    {
     "name": "stdout",
     "output_type": "stream",
     "text": [
      "Hi, this is our first python program.\n"
     ]
    }
   ],
   "source": [
    "print(\"Hi, this is our first python program.\")"
   ]
  },
  {
   "cell_type": "markdown",
   "metadata": {},
   "source": [
    "#### **Check python version**"
   ]
  },
  {
   "cell_type": "code",
   "execution_count": 30,
   "metadata": {},
   "outputs": [],
   "source": [
    "import sys"
   ]
  },
  {
   "cell_type": "code",
   "execution_count": 27,
   "metadata": {},
   "outputs": [
    {
     "data": {
      "text/plain": [
       "'3.7.3 (default, Apr 24 2019, 15:29:51) [MSC v.1915 64 bit (AMD64)]'"
      ]
     },
     "execution_count": 27,
     "metadata": {},
     "output_type": "execute_result"
    }
   ],
   "source": [
    "sys.version"
   ]
  },
  {
   "cell_type": "markdown",
   "metadata": {},
   "source": [
    "#### **Output without using print**"
   ]
  },
  {
   "cell_type": "markdown",
   "metadata": {},
   "source": [
    "You would be amazed that without using print in above command, version got displayed as an output result. This is the unique feature of jupyter notebook as it prints the result of last execution in cell. So, lets have a look on below examples:"
   ]
  },
  {
   "cell_type": "markdown",
   "metadata": {},
   "source": [
    "#### Example-1"
   ]
  },
  {
   "cell_type": "code",
   "execution_count": 11,
   "metadata": {},
   "outputs": [
    {
     "data": {
      "text/plain": [
       "'Hi Python, how are you?'"
      ]
     },
     "execution_count": 11,
     "metadata": {},
     "output_type": "execute_result"
    }
   ],
   "source": [
    "\"Hi Python, how are you?\""
   ]
  },
  {
   "cell_type": "markdown",
   "metadata": {},
   "source": [
    "#### Example-2"
   ]
  },
  {
   "cell_type": "code",
   "execution_count": 14,
   "metadata": {},
   "outputs": [],
   "source": [
    "name = \"Steve Smith\"\n",
    "\n",
    "addition = 4+5"
   ]
  },
  {
   "cell_type": "markdown",
   "metadata": {},
   "source": [
    "Here, nothing got print because we just assigned some values to python objects."
   ]
  },
  {
   "cell_type": "markdown",
   "metadata": {},
   "source": [
    "#### Example-3"
   ]
  },
  {
   "cell_type": "code",
   "execution_count": 16,
   "metadata": {},
   "outputs": [
    {
     "data": {
      "text/plain": [
       "'Steve Smith'"
      ]
     },
     "execution_count": 16,
     "metadata": {},
     "output_type": "execute_result"
    }
   ],
   "source": [
    "name = \"Steve Smith\"\n",
    "\n",
    "addition = 4+5\n",
    "\n",
    "name"
   ]
  },
  {
   "cell_type": "markdown",
   "metadata": {},
   "source": [
    "In this case, after asigning some values to python objects(like **name** and **addition**) we asked the interpreter to show what object **name** is holding. Hence, it was the last execution within the cell so it displayed 'Steve Smith' as an output."
   ]
  },
  {
   "cell_type": "markdown",
   "metadata": {},
   "source": [
    "#### Example-4"
   ]
  },
  {
   "cell_type": "code",
   "execution_count": 17,
   "metadata": {},
   "outputs": [
    {
     "data": {
      "text/plain": [
       "9"
      ]
     },
     "execution_count": 17,
     "metadata": {},
     "output_type": "execute_result"
    }
   ],
   "source": [
    "name = \"Steve Smith\"\n",
    "\n",
    "addition = 4+5\n",
    "\n",
    "name\n",
    "addition"
   ]
  },
  {
   "cell_type": "markdown",
   "metadata": {},
   "source": [
    "This will clear all the doubts, here first we assigned “Steve Smith” to name then we assigned 4+5 i.e. 9 to addition. Then, we tried to see what name and addition are containing, so addition will be executed last in this cell. Hence, 9 comes as the cell output.\n",
    "\n",
    "So, we come to the end of this blog. In the next blog, we will move ahead with some python hands-on coding."
   ]
  },
  {
   "cell_type": "markdown",
   "metadata": {},
   "source": [
    "![ty](Blog_2/Seth-Meyers-Thank-You.gif)"
   ]
  }
 ],
 "metadata": {
  "kernelspec": {
   "display_name": "Python 3",
   "language": "python",
   "name": "python3"
  },
  "language_info": {
   "codemirror_mode": {
    "name": "ipython",
    "version": 3
   },
   "file_extension": ".py",
   "mimetype": "text/x-python",
   "name": "python",
   "nbconvert_exporter": "python",
   "pygments_lexer": "ipython3",
   "version": "3.7.3"
  }
 },
 "nbformat": 4,
 "nbformat_minor": 4
}
