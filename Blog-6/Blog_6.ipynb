{
 "cells": [
  {
   "cell_type": "markdown",
   "metadata": {},
   "source": [
    "# **Deep Dive in Machine Learning with Python**\n",
    "#### **Part - VI: List Comprehensions and Functions in Python**"
   ]
  },
  {
   "cell_type": "markdown",
   "metadata": {},
   "source": [
    "Welcome to the sixth blog of Deep Dive in Machine Learning with Python, in the last blog (Deep Dive in ML with Python - Part-V) we discussed the live real-time scenarios of Tuples and Dictionaries.\n",
    "\n",
    "In today's blog, we will walk through with List Comprehensions and Functions which are two of the most widely used python components.\n",
    "\n",
    "## **Python Functions**\n",
    "\n",
    "A function is a block of reusable code that is used to perform a one or multiple actions.\n",
    "\n",
    "Python already provides several built-in functions such as print(), type() and others, however, you can also create your own customized functions. These functions are known as user-defined functions."
   ]
  },
  {
   "cell_type": "markdown",
   "metadata": {},
   "source": [
    "## **User defined functions**"
   ]
  },
  {
   "cell_type": "markdown",
   "metadata": {},
   "source": [
    "In Python, user can create two types of functions:\n",
    "\n",
    "**1. Functions with the return statement**\n",
    "\n",
    "These are the functions that execute some code then return the output when the function been invoked or called.\n",
    "\n",
    "**2. Functions without return statement**\n",
    "\n",
    "These are the functions that perform some operations then instead of returning the result, they print the output on the console."
   ]
  },
  {
   "cell_type": "markdown",
   "metadata": {},
   "source": [
    "## **Problem-1: How to create a user-defined function?**"
   ]
  },
  {
   "cell_type": "markdown",
   "metadata": {},
   "source": [
    "#### **CASE-I : Function with a return statement**"
   ]
  },
  {
   "cell_type": "code",
   "execution_count": 1,
   "metadata": {},
   "outputs": [],
   "source": [
    "def add_two_numbers(num1, num2):\n",
    "    return num1+num2"
   ]
  },
  {
   "cell_type": "markdown",
   "metadata": {},
   "source": [
    "In the above example, we created a function \"add_two_numbers\" that accepts two input parameters \"num1\" and \"num2\". And, it returns the addition of both the input parameters."
   ]
  },
  {
   "cell_type": "markdown",
   "metadata": {},
   "source": [
    "#### **CASE-II : Function with a print statement instead of a return statement**"
   ]
  },
  {
   "cell_type": "code",
   "execution_count": 2,
   "metadata": {},
   "outputs": [],
   "source": [
    "def print_two_num_substraction(num1, num2):\n",
    "    result = num1 - num2\n",
    "    print(\"The substraction of two numbers is :\", result)"
   ]
  },
  {
   "cell_type": "code",
   "execution_count": 3,
   "metadata": {},
   "outputs": [
    {
     "name": "stdout",
     "output_type": "stream",
     "text": [
      "The substraction of two numbers is : 4\n"
     ]
    }
   ],
   "source": [
    "print_two_num_substraction(8,4)"
   ]
  },
  {
   "cell_type": "markdown",
   "metadata": {},
   "source": [
    "Here, the above function is only printing the output using print() statement instead of returning the outcome."
   ]
  },
  {
   "cell_type": "markdown",
   "metadata": {},
   "source": [
    "#### **CASE-III : Function which overwrites the values of the arguments and returns the result**"
   ]
  },
  {
   "cell_type": "code",
   "execution_count": 4,
   "metadata": {},
   "outputs": [],
   "source": [
    "def print_two_num_division(num1,num2):\n",
    "    num1 = 16\n",
    "    num2 = 8\n",
    "    result = num1/num2\n",
    "    print(\"First number is : {}\".format(num1))\n",
    "    print(\"Second number is : {}\".format(num2))\n",
    "    print(\"The division of two numbers is :\",result)"
   ]
  },
  {
   "cell_type": "code",
   "execution_count": 5,
   "metadata": {},
   "outputs": [
    {
     "name": "stdout",
     "output_type": "stream",
     "text": [
      "First number is : 16\n",
      "Second number is : 8\n",
      "The division of two numbers is : 2.0\n"
     ]
    }
   ],
   "source": [
    "print_two_num_division(9,3)"
   ]
  },
  {
   "cell_type": "markdown",
   "metadata": {},
   "source": [
    "Here, in this example, although we provided the values of argumments(i.e. num1 as 9 and num2 as 3) while invoking the function but within the function definition we overwrite their values as 16 and 8 respectively.\n",
    "\n",
    "##### **Thus, the result printed as 2.0**"
   ]
  },
  {
   "cell_type": "markdown",
   "metadata": {},
   "source": [
    "## **Problem-2: What are the ways to invoke/call the user defined fucntion?**"
   ]
  },
  {
   "cell_type": "markdown",
   "metadata": {},
   "source": [
    "#### **CASE-I : Explicit calling**"
   ]
  },
  {
   "cell_type": "code",
   "execution_count": 3,
   "metadata": {},
   "outputs": [
    {
     "data": {
      "text/plain": [
       "15"
      ]
     },
     "execution_count": 3,
     "metadata": {},
     "output_type": "execute_result"
    }
   ],
   "source": [
    "add_two_numbers(num1=7, num2=8)"
   ]
  },
  {
   "cell_type": "markdown",
   "metadata": {},
   "source": [
    "As shown in the above line, we invoked the used-defined function \"add_two_numbers\" and passed the two parameters \"num1\" as 7 and \"num2\" as 8 by explicitly writing their names.\n",
    "\n",
    "#### **NOTE**\n",
    "##### In explicit function call, position/order of its parameters doesn't matter because we provide the parameter name along with its value."
   ]
  },
  {
   "cell_type": "markdown",
   "metadata": {},
   "source": [
    "#### **CASE-II : Implicit Calling**"
   ]
  },
  {
   "cell_type": "code",
   "execution_count": 4,
   "metadata": {},
   "outputs": [
    {
     "data": {
      "text/plain": [
       "15"
      ]
     },
     "execution_count": 4,
     "metadata": {},
     "output_type": "execute_result"
    }
   ],
   "source": [
    "add_two_numbers(7,8)"
   ]
  },
  {
   "cell_type": "markdown",
   "metadata": {},
   "source": [
    "In the above example, we invoked the user-defined function \"add_two_numbers\" and passed the values of parameters \"num1\" and \"num2\" implicitly. \n",
    "That means, the values will be picked up based on their position in which parameters were defined in the function definition. \n",
    "Thus, 7 will go to num1 and 8 to num2."
   ]
  },
  {
   "cell_type": "markdown",
   "metadata": {},
   "source": [
    "## **Problem-3: How to write an efficient and descriptive doc string of a user-defined function?**"
   ]
  },
  {
   "cell_type": "code",
   "execution_count": 7,
   "metadata": {},
   "outputs": [],
   "source": [
    "def multiply_two_numbers(num1,num2):\n",
    "    \"\"\"\n",
    "    Description: \n",
    "    This function performs the multlipication of two numeric values.\n",
    "    \n",
    "    Parameter: \n",
    "    It accepts two input parameters:\n",
    "    num1: First input parameter\n",
    "    num2: Second input parameter\n",
    "    \n",
    "    Return:\n",
    "    It returns the result of num1 and num2 multiplication.\n",
    "    \"\"\"\n",
    "    result = num1 * num2\n",
    "    return result"
   ]
  },
  {
   "cell_type": "markdown",
   "metadata": {},
   "source": [
    "In the above example, we added the doc string to the function and mentioned three major categories:\n",
    "\n",
    "**1. Description**\n",
    "It explains the objective of the function\n",
    "\n",
    "**2. Parameter**\n",
    "It tells about the parameters that the function can accept\n",
    "\n",
    "**3. Return**\n",
    "It mention about the output that function will return"
   ]
  },
  {
   "cell_type": "markdown",
   "metadata": {},
   "source": [
    "## **Problem-4: How to view the docstring of a used-defined function?**"
   ]
  },
  {
   "cell_type": "code",
   "execution_count": 7,
   "metadata": {},
   "outputs": [
    {
     "name": "stdout",
     "output_type": "stream",
     "text": [
      "Help on function multiply_two_numbers in module __main__:\n",
      "\n",
      "multiply_two_numbers(num1, num2)\n",
      "    Description: \n",
      "    This function performs the multlipication of two numeric values.\n",
      "    \n",
      "    Parameter: \n",
      "    It accepts two input parameters:\n",
      "    num1: First input parameter\n",
      "    num2: Second input parameter\n",
      "    \n",
      "    Returns:\n",
      "    It returns the result of num1 and num2 multiplication.\n",
      "\n"
     ]
    }
   ],
   "source": [
    "help(multiply_two_numbers)"
   ]
  },
  {
   "cell_type": "markdown",
   "metadata": {},
   "source": [
    "So, by providing the doc string while defining the function facilitates its description for future use."
   ]
  },
  {
   "cell_type": "markdown",
   "metadata": {},
   "source": [
    "## **Problem-5: What are the types of function parameters?**"
   ]
  },
  {
   "cell_type": "markdown",
   "metadata": {},
   "source": [
    "There are several kind of function parameters:\n",
    "### **1. Required parameters**\n",
    "\n",
    "Parameters whose values needs to be provided while invoking the function are known as Required parameters."
   ]
  },
  {
   "cell_type": "markdown",
   "metadata": {},
   "source": [
    "##### **CASE-I : Providing value for all the parameters**"
   ]
  },
  {
   "cell_type": "code",
   "execution_count": 11,
   "metadata": {},
   "outputs": [],
   "source": [
    "def complete_name(f_name,l_name):\n",
    "    comp_name = f_name + ' ' + l_name\n",
    "    return comp_name"
   ]
  },
  {
   "cell_type": "markdown",
   "metadata": {},
   "source": [
    "So, here in the above example, a function complete_name has been created and it accepts two parameters f_name and l_name. Both these parameters are required parameters and complete_name expects their values whenever its been invoked."
   ]
  },
  {
   "cell_type": "code",
   "execution_count": 12,
   "metadata": {},
   "outputs": [],
   "source": [
    "name = complete_name('Jetts','Watson')"
   ]
  },
  {
   "cell_type": "code",
   "execution_count": 13,
   "metadata": {},
   "outputs": [
    {
     "data": {
      "text/plain": [
       "'Jetts Watson'"
      ]
     },
     "execution_count": 13,
     "metadata": {},
     "output_type": "execute_result"
    }
   ],
   "source": [
    "name"
   ]
  },
  {
   "cell_type": "markdown",
   "metadata": {},
   "source": [
    "Here, we provided both the arguments f_name as 'Jetts' and l_name as 'Watson'. And, got the expected output 'Jetts Watson'. Now, let's try calling the same function with only one parameter."
   ]
  },
  {
   "cell_type": "markdown",
   "metadata": {},
   "source": [
    "**CASE-II : Providing value for only one required parameter**"
   ]
  },
  {
   "cell_type": "code",
   "execution_count": 14,
   "metadata": {},
   "outputs": [
    {
     "ename": "TypeError",
     "evalue": "complete_name() missing 1 required positional argument: 'l_name'",
     "output_type": "error",
     "traceback": [
      "\u001b[1;31m---------------------------------------------------------------------------\u001b[0m",
      "\u001b[1;31mTypeError\u001b[0m                                 Traceback (most recent call last)",
      "\u001b[1;32m<ipython-input-14-3ca56f138e55>\u001b[0m in \u001b[0;36m<module>\u001b[1;34m\u001b[0m\n\u001b[1;32m----> 1\u001b[1;33m \u001b[0mcomplete_name\u001b[0m\u001b[1;33m(\u001b[0m\u001b[1;34m'Jetts'\u001b[0m\u001b[1;33m)\u001b[0m\u001b[1;33m\u001b[0m\u001b[1;33m\u001b[0m\u001b[0m\n\u001b[0m",
      "\u001b[1;31mTypeError\u001b[0m: complete_name() missing 1 required positional argument: 'l_name'"
     ]
    }
   ],
   "source": [
    "complete_name('Jetts')"
   ]
  },
  {
   "cell_type": "markdown",
   "metadata": {},
   "source": [
    "As you can see in the above error, complete_name function expects the values of both required arguments. However, we only provided f_name as 'Jetts' and skipped l_name. \n",
    "\n",
    "Thus, got the missing 1 required positional argument error."
   ]
  },
  {
   "cell_type": "markdown",
   "metadata": {},
   "source": [
    "## **2. Default Parameters**\n",
    "These are the kind of parameters which considers a default value if a value is not provided in the function call."
   ]
  },
  {
   "cell_type": "markdown",
   "metadata": {},
   "source": [
    "#### **CASE-I : Defining a function with default parameter**"
   ]
  },
  {
   "cell_type": "code",
   "execution_count": 4,
   "metadata": {},
   "outputs": [],
   "source": [
    "def batsmen_score(first_name, last_name, team = 'India'):\n",
    "    print(\"Player first name is :\",first_name)\n",
    "    print(\"Player last name is :\",last_name)\n",
    "    print(\"Player team is :\", team)"
   ]
  },
  {
   "cell_type": "code",
   "execution_count": 5,
   "metadata": {},
   "outputs": [
    {
     "name": "stdout",
     "output_type": "stream",
     "text": [
      "Player first name is : MS\n",
      "Player last name is : Dhoni\n",
      "Player team is : India\n"
     ]
    }
   ],
   "source": [
    "batsmen_score('MS','Dhoni')"
   ]
  },
  {
   "cell_type": "markdown",
   "metadata": {},
   "source": [
    "In this example, we created a function 'batsmen_score' with 3 arguments 'first_name', 'last_name' and 'team'. \n",
    "\n",
    "Out of these, 'first_name' and 'last_name' are the required parameters, however, 'team' is a default parameter which means if its value is not provided in function\n",
    "then the default value 'India' will be used."
   ]
  },
  {
   "cell_type": "markdown",
   "metadata": {},
   "source": [
    "#### **CASE-II : Calling the function and passing a value to default parameter as well**"
   ]
  },
  {
   "cell_type": "code",
   "execution_count": 6,
   "metadata": {},
   "outputs": [
    {
     "name": "stdout",
     "output_type": "stream",
     "text": [
      "Player first name is : James\n",
      "Player last name is : Pattinson\n",
      "Player team is : Australia\n"
     ]
    }
   ],
   "source": [
    "batsmen_score('James','Pattinson','Australia')"
   ]
  },
  {
   "cell_type": "markdown",
   "metadata": {},
   "source": [
    "Thus, above example demontrates the use of default parameters."
   ]
  },
  {
   "cell_type": "markdown",
   "metadata": {},
   "source": [
    "## **3. Variable length parameters**"
   ]
  },
  {
   "cell_type": "markdown",
   "metadata": {},
   "source": [
    "These are the kind of agruments which we do not specify in the function definition like Required or Default parameters. However, the function still process them."
   ]
  },
  {
   "cell_type": "markdown",
   "metadata": {},
   "source": [
    "#### **CASE-I**"
   ]
  },
  {
   "cell_type": "code",
   "execution_count": 2,
   "metadata": {},
   "outputs": [],
   "source": [
    "def player_details(first_name, last_name, *var_parameter):\n",
    "    \"\"\"\n",
    "    Description : This function will print the information about a sports player.\n",
    "    \"\"\"\n",
    "    print(\"First name is : {}\".format(first_name))\n",
    "    print(\"Last name is : {}\".format(last_name))\n",
    "    for values in var_parameter:\n",
    "        print(\"He was man of the tournament in {}\".format(values))\n",
    "    return None"
   ]
  },
  {
   "cell_type": "code",
   "execution_count": 3,
   "metadata": {},
   "outputs": [
    {
     "name": "stdout",
     "output_type": "stream",
     "text": [
      "First name is : Steve\n",
      "Last name is : Smith\n",
      "He was man of the tournament in ICC World Cup 2007\n",
      "He was man of the tournament in ICC Champions Trophy 2012\n",
      "He was man of the tournament in VB Series 2013\n"
     ]
    }
   ],
   "source": [
    "player_details('Steve', 'Smith', 'ICC World Cup 2007', 'ICC Champions Trophy 2012', 'VB Series 2013')"
   ]
  },
  {
   "cell_type": "markdown",
   "metadata": {},
   "source": [
    "As we saw in the above cell, last 3 values('ICC World Cup 2007', 'ICC Champions Trophy 2012', 'VB Series 2013') in function call were treated as Variable length parameters and not named in the function definition.\n",
    "\n",
    "##### **NOTE**\n",
    "An asterisk (*) is placed before the variable name that holds the values of all the nonkeyword variable parameters. "
   ]
  },
  {
   "cell_type": "markdown",
   "metadata": {},
   "source": [
    "#### **CASE-II**"
   ]
  },
  {
   "cell_type": "code",
   "execution_count": 15,
   "metadata": {},
   "outputs": [],
   "source": [
    "def fruits_desc(fruit_name, fruit_color, *var_parameter):\n",
    "    \"\"\"\n",
    "    Description: This function is created for displaying the Fruit name and its color.\n",
    "    \n",
    "    Input parameters: \n",
    "    It accepts two required parameter:\n",
    "    1. fruit_name\n",
    "    2. fruit_color\n",
    "    \n",
    "    It also accepts the non required variable parameters.\n",
    "    \n",
    "    Returns: None\n",
    "    \"\"\"\n",
    "    f_name = fruit_name\n",
    "    f_color = fruit_color\n",
    "    \n",
    "    print(\"{} is {} in color\".format(str.capitalize(f_name),str.upper(f_color)),\"\\n\")\n",
    "    \n",
    "    for values in var_parameter:\n",
    "        print(\"{} is {} in color\".format(str.upper(values.split(',')[0]),str.upper(values.split(',')[1])))"
   ]
  },
  {
   "cell_type": "markdown",
   "metadata": {},
   "source": [
    "##### **Function call - I**"
   ]
  },
  {
   "cell_type": "code",
   "execution_count": 14,
   "metadata": {},
   "outputs": [
    {
     "name": "stdout",
     "output_type": "stream",
     "text": [
      "Apple is RED in color \n",
      "\n"
     ]
    }
   ],
   "source": [
    "fruits_desc('apple','red')"
   ]
  },
  {
   "cell_type": "markdown",
   "metadata": {},
   "source": [
    "In this example, only the required parameters were passed to the function. As mentioned above, variable-length parameters are the non-requried parameters. So, even if their values are not provided in function call, you won't receive any error."
   ]
  },
  {
   "cell_type": "markdown",
   "metadata": {},
   "source": [
    "##### **Function call -II**"
   ]
  },
  {
   "cell_type": "code",
   "execution_count": 16,
   "metadata": {},
   "outputs": [
    {
     "name": "stdout",
     "output_type": "stream",
     "text": [
      "Apple is RED in color \n",
      "\n",
      "MANGO is YELLOW-ORANGE in color\n",
      "BANANA is GREEN in color\n"
     ]
    }
   ],
   "source": [
    "fruits_desc('apple','red','mango,yellow-orange','banana,green')"
   ]
  },
  {
   "cell_type": "markdown",
   "metadata": {},
   "source": [
    "Here, along with the required parameters we also facilitated the values of variable-length parameters in the function call. Thus, the same got dispalyed in the output."
   ]
  },
  {
   "cell_type": "markdown",
   "metadata": {},
   "source": [
    "### **Anonymous Function**"
   ]
  },
  {
   "cell_type": "markdown",
   "metadata": {},
   "source": [
    "A function is called the Anonymous when it is not declared in the standard fashion by using the 'def' keyword. We use 'lambda' keyword to create an Anonymous function. I prefer using **'lambda'** anonymous functions because they are simple, easy to use and most importantly powerful enough to perform any operation. \n",
    "\n",
    "Let's try to solve some problems using **'lambda'** functions:"
   ]
  },
  {
   "cell_type": "markdown",
   "metadata": {},
   "source": [
    "## **Problem-1: How to create a lambda function?**"
   ]
  },
  {
   "cell_type": "code",
   "execution_count": 23,
   "metadata": {},
   "outputs": [
    {
     "data": {
      "text/plain": [
       "<function __main__.<lambda>(x, y)>"
      ]
     },
     "execution_count": 23,
     "metadata": {},
     "output_type": "execute_result"
    }
   ],
   "source": [
    "(lambda x,y : x+y)"
   ]
  },
  {
   "cell_type": "markdown",
   "metadata": {},
   "source": [
    "As shown in the above cell, we create an Anonymous function by using **'lambda'** keyword. In this example, function accepts 2 parameters x and y. And returns their sum that means x + y."
   ]
  },
  {
   "cell_type": "markdown",
   "metadata": {},
   "source": [
    "## **Problem-2: How to add two numbers by using lambda?**"
   ]
  },
  {
   "cell_type": "code",
   "execution_count": 24,
   "metadata": {},
   "outputs": [
    {
     "data": {
      "text/plain": [
       "5"
      ]
     },
     "execution_count": 24,
     "metadata": {},
     "output_type": "execute_result"
    }
   ],
   "source": [
    "(lambda x,y : x+y)(2,3)"
   ]
  },
  {
   "cell_type": "markdown",
   "metadata": {},
   "source": [
    "Here as you can see just a simple way to add two numbers via 'lambda'."
   ]
  },
  {
   "cell_type": "markdown",
   "metadata": {},
   "source": [
    "## **Problem-3: How to add a number to every value of a list using lambda?**"
   ]
  },
  {
   "cell_type": "code",
   "execution_count": 45,
   "metadata": {},
   "outputs": [
    {
     "data": {
      "text/plain": [
       "[12, 13, 14, 15]"
      ]
     },
     "execution_count": 45,
     "metadata": {},
     "output_type": "execute_result"
    }
   ],
   "source": [
    "[(lambda x : x+10) (val) for val in [2,3,4,5]]"
   ]
  },
  {
   "cell_type": "markdown",
   "metadata": {},
   "source": [
    "So, in this example we added 10 to every element of a list."
   ]
  },
  {
   "cell_type": "markdown",
   "metadata": {},
   "source": [
    "## **Problem-4: How to assign a lambda function to a python variable object?**"
   ]
  },
  {
   "cell_type": "code",
   "execution_count": 50,
   "metadata": {},
   "outputs": [],
   "source": [
    "cal_power_of_number = lambda A, B : A**B"
   ]
  },
  {
   "cell_type": "code",
   "execution_count": 51,
   "metadata": {},
   "outputs": [
    {
     "data": {
      "text/plain": [
       "16"
      ]
     },
     "execution_count": 51,
     "metadata": {},
     "output_type": "execute_result"
    }
   ],
   "source": [
    "cal_power_of_number(2,4)"
   ]
  },
  {
   "cell_type": "markdown",
   "metadata": {},
   "source": [
    "In this example, we defined the lambda function and assignd it to a python object 'cal_power_of_number', then passed the parameters values to this object which in the backend runs the lambda function."
   ]
  },
  {
   "cell_type": "markdown",
   "metadata": {},
   "source": [
    "## **Problem-5: How to define a lambda function inside a standard function?**"
   ]
  },
  {
   "cell_type": "code",
   "execution_count": 56,
   "metadata": {},
   "outputs": [],
   "source": [
    "def numbers_multlipication(num1, num2):\n",
    "    return (lambda x,y : x*y)(num1,num2)"
   ]
  },
  {
   "cell_type": "code",
   "execution_count": 57,
   "metadata": {},
   "outputs": [
    {
     "data": {
      "text/plain": [
       "12"
      ]
     },
     "execution_count": 57,
     "metadata": {},
     "output_type": "execute_result"
    }
   ],
   "source": [
    "numbers_multlipication(4,3)"
   ]
  },
  {
   "cell_type": "markdown",
   "metadata": {},
   "source": [
    "Here, 'numbers_multlipication' function invkoes the lambda function and passes the parameters to it."
   ]
  },
  {
   "cell_type": "markdown",
   "metadata": {},
   "source": [
    "# **MAP Function**"
   ]
  },
  {
   "cell_type": "markdown",
   "metadata": {},
   "source": [
    "It is the function that returns a list of the results after applying a function to each element of an iterable (list, tuple etc.)"
   ]
  },
  {
   "cell_type": "markdown",
   "metadata": {},
   "source": [
    "## **Problem-1: How to use MAP function to apply over an iterable?**"
   ]
  },
  {
   "cell_type": "code",
   "execution_count": 58,
   "metadata": {},
   "outputs": [],
   "source": [
    "def numbers_addition(x):\n",
    "    return x+10"
   ]
  },
  {
   "cell_type": "code",
   "execution_count": 59,
   "metadata": {},
   "outputs": [],
   "source": [
    "student_scores = [60,70,75,85]"
   ]
  },
  {
   "cell_type": "code",
   "execution_count": 62,
   "metadata": {},
   "outputs": [
    {
     "data": {
      "text/plain": [
       "<map at 0x6d4b110>"
      ]
     },
     "execution_count": 62,
     "metadata": {},
     "output_type": "execute_result"
    }
   ],
   "source": [
    "map(numbers_addition,student_scores)"
   ]
  },
  {
   "cell_type": "markdown",
   "metadata": {},
   "source": [
    "This is the way to map the function on any iterable(e.g. list, we also used student_scores in the above example)"
   ]
  },
  {
   "cell_type": "markdown",
   "metadata": {},
   "source": [
    "## **Problem-2: How to get the resultant values after applying the MAP function to an iterable?**"
   ]
  },
  {
   "cell_type": "code",
   "execution_count": 63,
   "metadata": {},
   "outputs": [
    {
     "data": {
      "text/plain": [
       "[70, 80, 85, 95]"
      ]
     },
     "execution_count": 63,
     "metadata": {},
     "output_type": "execute_result"
    }
   ],
   "source": [
    "list(map(numbers_addition,student_scores))"
   ]
  },
  {
   "cell_type": "markdown",
   "metadata": {},
   "source": [
    "That's how you can obtain the resultant values after applying MAP function to an iterable."
   ]
  },
  {
   "cell_type": "markdown",
   "metadata": {},
   "source": [
    "## **Problem-3: How to use MAP function to apply the LAMBDA function on an iterable?**"
   ]
  },
  {
   "cell_type": "code",
   "execution_count": 67,
   "metadata": {},
   "outputs": [
    {
     "data": {
      "text/plain": [
       "[90, 64, 134, 178, 164]"
      ]
     },
     "execution_count": 67,
     "metadata": {},
     "output_type": "execute_result"
    }
   ],
   "source": [
    "batsmen_last5_runs = [45,32,67,89,82]\n",
    "list(map(lambda score: score + score,batsmen_last5_runs))"
   ]
  },
  {
   "cell_type": "markdown",
   "metadata": {},
   "source": [
    "In the above example, we map the lambda function on an iterable(i.e. batsmen_last5_runs)"
   ]
  },
  {
   "cell_type": "markdown",
   "metadata": {},
   "source": [
    "# **REDUCE Function**"
   ]
  },
  {
   "cell_type": "markdown",
   "metadata": {},
   "source": [
    "The reduce function applies a particular function passed in its argument to all the list elements. It is defined in 'functools' module."
   ]
  },
  {
   "cell_type": "markdown",
   "metadata": {},
   "source": [
    "## **Problem-1: How to import REDUCE function?**"
   ]
  },
  {
   "cell_type": "code",
   "execution_count": 68,
   "metadata": {},
   "outputs": [],
   "source": [
    "from functools import reduce"
   ]
  },
  {
   "cell_type": "code",
   "execution_count": 71,
   "metadata": {},
   "outputs": [
    {
     "name": "stdout",
     "output_type": "stream",
     "text": [
      "Help on built-in function reduce in module _functools:\n",
      "\n",
      "reduce(...)\n",
      "    reduce(function, sequence[, initial]) -> value\n",
      "    \n",
      "    Apply a function of two arguments cumulatively to the items of a sequence,\n",
      "    from left to right, so as to reduce the sequence to a single value.\n",
      "    For example, reduce(lambda x, y: x+y, [1, 2, 3, 4, 5]) calculates\n",
      "    ((((1+2)+3)+4)+5).  If initial is present, it is placed before the items\n",
      "    of the sequence in the calculation, and serves as a default when the\n",
      "    sequence is empty.\n",
      "\n"
     ]
    }
   ],
   "source": [
    "help(reduce)"
   ]
  },
  {
   "cell_type": "markdown",
   "metadata": {},
   "source": [
    "## **Problem-2: How to apply reduce operation by using lambda function on an iterable?**"
   ]
  },
  {
   "cell_type": "code",
   "execution_count": 72,
   "metadata": {},
   "outputs": [],
   "source": [
    "batsmen_scores_in_a_series = [63,44,78,89,98]"
   ]
  },
  {
   "cell_type": "code",
   "execution_count": 75,
   "metadata": {},
   "outputs": [
    {
     "data": {
      "text/plain": [
       "372"
      ]
     },
     "execution_count": 75,
     "metadata": {},
     "output_type": "execute_result"
    }
   ],
   "source": [
    "reduce(lambda x,y:x+y,batsmen_scores_in_a_series)"
   ]
  },
  {
   "cell_type": "markdown",
   "metadata": {},
   "source": [
    "In this example, we applied the reduce function on 'batsmen_scores_in_a_series' to get the total runs scored by a batsmen in a series."
   ]
  },
  {
   "cell_type": "markdown",
   "metadata": {},
   "source": [
    "## **Problem-3: How to apply reduce operation on an iterable inside the standard function?**"
   ]
  },
  {
   "cell_type": "code",
   "execution_count": 80,
   "metadata": {},
   "outputs": [],
   "source": [
    "def count_fruits(*fruit_list):\n",
    "    fruits = []\n",
    "    for fruit in fruit_list:\n",
    "        fruits.append(int(fruit.split('|')[1]))\n",
    "    return reduce(lambda x,y : x+y,fruits)"
   ]
  },
  {
   "cell_type": "code",
   "execution_count": 82,
   "metadata": {},
   "outputs": [],
   "source": [
    "total_fruits_count = count_fruits('apple|3','banana|4','oranges|8','kiwi|5')"
   ]
  },
  {
   "cell_type": "code",
   "execution_count": 83,
   "metadata": {},
   "outputs": [
    {
     "name": "stdout",
     "output_type": "stream",
     "text": [
      "Total number of fruits are 20\n"
     ]
    }
   ],
   "source": [
    "print(\"Total number of fruits are {}\".format(total_fruits_count))"
   ]
  },
  {
   "cell_type": "markdown",
   "metadata": {},
   "source": [
    "Here, we used the variable-length arguments and applied the REDUCE function on 'fruits' list to obtain the count of fruits."
   ]
  },
  {
   "cell_type": "markdown",
   "metadata": {},
   "source": [
    "## **FILTER Function**"
   ]
  },
  {
   "cell_type": "markdown",
   "metadata": {},
   "source": [
    "The filter() method filters the data by using a function that validates whether each element satisfies the particular condition or not."
   ]
  },
  {
   "cell_type": "markdown",
   "metadata": {},
   "source": [
    "## **Problem-1: How to apply filter method on the data inside a standard function?**"
   ]
  },
  {
   "cell_type": "code",
   "execution_count": 88,
   "metadata": {},
   "outputs": [],
   "source": [
    "def filter_int_values(*input):\n",
    "    for element in input:\n",
    "        if type(element) == int:\n",
    "            return False\n",
    "        else:\n",
    "            return True"
   ]
  },
  {
   "cell_type": "code",
   "execution_count": 91,
   "metadata": {},
   "outputs": [
    {
     "data": {
      "text/plain": [
       "['Mathew']"
      ]
     },
     "execution_count": 91,
     "metadata": {},
     "output_type": "execute_result"
    }
   ],
   "source": [
    "list(filter(filter_int_values,[20,40,'Mathew']))"
   ]
  },
  {
   "cell_type": "markdown",
   "metadata": {},
   "source": [
    "In the above example, we simply applied the **'filter_int_values'** function on the iterable **[20,40,'Rajesh']**. Thus, non-integer values of the iterable got printed."
   ]
  },
  {
   "cell_type": "markdown",
   "metadata": {},
   "source": [
    "## **Problem-2: How to apply filter method by using the LAMBDA function?**"
   ]
  },
  {
   "cell_type": "code",
   "execution_count": 95,
   "metadata": {},
   "outputs": [
    {
     "data": {
      "text/plain": [
       "[2, 4, 8, 10]"
      ]
     },
     "execution_count": 95,
     "metadata": {},
     "output_type": "execute_result"
    }
   ],
   "source": [
    "list(filter(lambda x:x%2==0,[2,3,4,5,7,8,10]))"
   ]
  },
  {
   "cell_type": "markdown",
   "metadata": {},
   "source": [
    "In the above example, we just droppped the records which were not the divisible of 2."
   ]
  },
  {
   "cell_type": "markdown",
   "metadata": {},
   "source": [
    "# **LIST Comprehension**"
   ]
  },
  {
   "cell_type": "markdown",
   "metadata": {},
   "source": [
    "It is a way to define and create list in python. When we can create lists based on some statements/conditions in one line only is known as List Comprehensions."
   ]
  },
  {
   "cell_type": "markdown",
   "metadata": {},
   "source": [
    "## **Problem-1: How to create a list by a range of numbers?**"
   ]
  },
  {
   "cell_type": "code",
   "execution_count": 113,
   "metadata": {},
   "outputs": [
    {
     "data": {
      "text/plain": [
       "[12, 14, 16, 18, 20, 22, 24, 26, 28, 30, 32, 34, 36, 38]"
      ]
     },
     "execution_count": 113,
     "metadata": {},
     "output_type": "execute_result"
    }
   ],
   "source": [
    "[val for val in range(1,40) if val > 10 and val%2 ==0]"
   ]
  },
  {
   "cell_type": "markdown",
   "metadata": {},
   "source": [
    "In the above example, we created the list of numbers from 1 to 39 based on a number greater than 10 and divisible of 2."
   ]
  },
  {
   "cell_type": "markdown",
   "metadata": {},
   "source": [
    "## **Problem-2: How to create a list of number by using LAMBDA and REDUCE function?**"
   ]
  },
  {
   "cell_type": "code",
   "execution_count": 110,
   "metadata": {},
   "outputs": [],
   "source": [
    "result = filter(lambda x:x%5 == 0,[number for number in range(1,31) if number > 10 and number < 30])"
   ]
  },
  {
   "cell_type": "code",
   "execution_count": 111,
   "metadata": {},
   "outputs": [
    {
     "data": {
      "text/plain": [
       "[15, 20, 25]"
      ]
     },
     "execution_count": 111,
     "metadata": {},
     "output_type": "execute_result"
    }
   ],
   "source": [
    "list(result)"
   ]
  },
  {
   "cell_type": "markdown",
   "metadata": {},
   "source": [
    "In the above example, we created the list of numbers which are greater than 10 but smaller than 30 and divisible of 5."
   ]
  },
  {
   "cell_type": "markdown",
   "metadata": {},
   "source": [
    "So, we have reached to the end of this blog."
   ]
  }
 ],
 "metadata": {
  "kernelspec": {
   "display_name": "Python 3",
   "language": "python",
   "name": "python3"
  },
  "language_info": {
   "codemirror_mode": {
    "name": "ipython",
    "version": 3
   },
   "file_extension": ".py",
   "mimetype": "text/x-python",
   "name": "python",
   "nbconvert_exporter": "python",
   "pygments_lexer": "ipython3",
   "version": "3.7.3"
  }
 },
 "nbformat": 4,
 "nbformat_minor": 4
}
