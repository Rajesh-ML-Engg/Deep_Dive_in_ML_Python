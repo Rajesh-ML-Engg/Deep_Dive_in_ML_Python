{
 "cells": [
  {
   "cell_type": "markdown",
   "metadata": {},
   "source": [
    "# **Deep Dive in Machine Learning with Python: Part - I: Introduction and fundamentals**"
   ]
  },
  {
   "cell_type": "markdown",
   "metadata": {},
   "source": [
    "Some time back, I came across a .py file while working on one of the projects in an IT firm. Being a software engineer, this new file extension and python logo truly fascinated me and straight away I eagerly started exploring the code written in it. As a newbie at that time, some terms of the code like naive Bayes, cross-validation, and others were unfamiliar to me. That typical day and many subsequent days, I meticulously kept researching around these terms and in no considerable time, I set a target for myself to be a Machine Learning Engineer.\n",
    "\n",
    "In this series of **Deep Dive in Machine Learning with Python**, I'll share a step by step guide for any newcomer who wants to discover python & ML or anyone who wants to enter in this fascinating field. In addition, I'll share my real-life work experience that I gained while working on multiple Machine Learning projects/use-cases.\n",
    "\n",
    "\n",
    "Therefore, in this blog, we will target some fundamental questions about python and ML."
   ]
  },
  {
   "cell_type": "markdown",
   "metadata": {},
   "source": [
    "**Q1: Why learn Python?**\n",
    "\n",
    "Answer: Effectively, there can be multiple reasons for this question. But mine in common are the following:\n",
    "- Its syntax or way of programming is easy and user-friendly\n",
    "- It's so convenient and precise(look below example)"
   ]
  },
  {
   "cell_type": "code",
   "execution_count": 9,
   "metadata": {},
   "outputs": [
    {
     "name": "stdout",
     "output_type": "stream",
     "text": [
      "!!!!!!!!Hello World, I like python.\n"
     ]
    }
   ],
   "source": [
    "print(\"!!!!!!!!Hello World, I like python.\")"
   ]
  },
  {
   "cell_type": "markdown",
   "metadata": {},
   "source": [
    "See, it's pure and plain english. Nothing fancy just straight to the point\n",
    "- Its pretty enjoyable programming language(look below example)"
   ]
  },
  {
   "cell_type": "code",
   "execution_count": 4,
   "metadata": {},
   "outputs": [
    {
     "data": {
      "text/plain": [
       "9"
      ]
     },
     "execution_count": 4,
     "metadata": {},
     "output_type": "execute_result"
    }
   ],
   "source": [
    "4+5"
   ]
  },
  {
   "cell_type": "markdown",
   "metadata": {},
   "source": [
    "See one more example, lets say you want to perform any mathematical calculation(e.g. addition) then simply write numbers separated with arithmetic operator and thats all!!!!!"
   ]
  },
  {
   "cell_type": "markdown",
   "metadata": {},
   "source": [
    "- In below example, it will tell you what exactly went wrong in an easy readable format."
   ]
  },
  {
   "cell_type": "code",
   "execution_count": 6,
   "metadata": {},
   "outputs": [
    {
     "ename": "ZeroDivisionError",
     "evalue": "division by zero",
     "output_type": "error",
     "traceback": [
      "\u001b[1;31m---------------------------------------------------------------------------\u001b[0m",
      "\u001b[1;31mZeroDivisionError\u001b[0m                         Traceback (most recent call last)",
      "\u001b[1;32m<ipython-input-6-221068dc2815>\u001b[0m in \u001b[0;36m<module>\u001b[1;34m\u001b[0m\n\u001b[1;32m----> 1\u001b[1;33m \u001b[1;36m4\u001b[0m\u001b[1;33m/\u001b[0m\u001b[1;36m0\u001b[0m\u001b[1;33m\u001b[0m\u001b[1;33m\u001b[0m\u001b[0m\n\u001b[0m",
      "\u001b[1;31mZeroDivisionError\u001b[0m: division by zero"
     ]
    }
   ],
   "source": [
    "4/0"
   ]
  },
  {
   "cell_type": "markdown",
   "metadata": {},
   "source": [
    "- Another reason is the kind of libraries that python provides for ML like Numpy, Pandas, Scikit-learn and others. And, the python community support is also tremendous."
   ]
  },
  {
   "cell_type": "markdown",
   "metadata": {},
   "source": [
    "**Q2: What is Machine Learning? Why we need it?**\n",
    "\n",
    "<!-- ![what_is_mil](what_is_ml.gif) -->\n",
    "\n",
    "\n",
    "**Answer:** Again, on this one you can find tonnes of definitions but in my opinion ML means empowering the computers to perform some tasks automatically with full precision and in no amount of time. \n",
    "\n",
    "For example, imagine if you have been provided with 10,000 credit card transactions and asked to find out fraudulent ones then how much time will it take to do it manually? Imagine if every minute 100 transactions are happening then how much human effort will be required to trace fraud transactions; also think in terms of loss for both customer and credit card firm. There can be numerous examples similar to this. \n",
    "\n",
    "Thus, we train the machines to find out such activities with no human intervention and in no time."
   ]
  },
  {
   "cell_type": "markdown",
   "metadata": {},
   "source": [
    "**Q3. Which industries use machine learning?**\n",
    "\n",
    "**Answer:** There are vast number of industries prominently leveraging ML. Some of them are :\n",
    "\n",
    "**1. Financial Services industry** \n",
    "\n",
    "Banks and other businesses use ML for primarily two purposes: \n",
    "\n",
    "   a. To identify some important insights in data\n",
    "    \n",
    "   b. To prevent fraudulent transactions\n",
    "\n",
    "**2. Healthcare industry**\n",
    "\n",
    "Various research are happening in healthcare domain which prominently use ML to predict any anamoly or identify trends to improve diagnoses.\n",
    "\n",
    "**3. Oil & Gas industries**\n",
    "\n",
    "These industries are using Machine Learning in oil and gas operations to save time, increase efficiency, reduce costs and at the same time they also focus on safety improvement.\n",
    "\n",
    "**4. Transportation industry**\n",
    "\n",
    "Transportation industry analyzes the data to identify patterns and trends which helps them making routes more efficient and increase profitability.\n",
    "\n",
    "**5. Automative industry**\n",
    "\n",
    "Here, trends and patterns identified on huge datasets related to vehicle ownership with a focus to provide better dealer networks, efficient real-time parts inventory and improved customer care.\n",
    "\n",
    "**6. Retail industry**\n",
    "\n",
    "Many Machine Learning technologies are used by retail domain companies to attract more customers like product recommendations while adjusting pricing, best-fit size as per previous orders, coupons, and other incentives in real time."
   ]
  },
  {
   "cell_type": "markdown",
   "metadata": {},
   "source": [
    "**Q4: How to install python?**\n",
    "\n",
    "**Answer:** Throughout this series we will using the python anaconda distribution.\n",
    "Anaconda distribution is an open-source distribution of Python and R programming languages for scientific computing. It contains a bunch of 1500+ packages designated for data-science.\n",
    "\n",
    "Refer below links for installation of anaconda distribution:\n",
    "\n",
    "**1. Installation on Windows**\n",
    "\n",
    "https://www.datacamp.com/community/tutorials/installing-anaconda-windows\n",
    "\n",
    "**2. Installation on Mac**\n",
    "\n",
    "https://www.datacamp.com/community/tutorials/installing-anaconda-mac-os-x\n",
    "\n",
    "**3. Installation on Linux**\n",
    "\n",
    "https://problemsolvingwithpython.com/01-Orientation/01.05-Installing-Anaconda-on-Linux/"
   ]
  },
  {
   "cell_type": "markdown",
   "metadata": {},
   "source": [
    "<!-- ![yes_you_did_it](yes_you_did_it.gif) -->\n",
    "\n",
    "Hurraaaaaay, we came to an end of this blog, to summarize, we touch base on python and ML to get an overview.\n",
    "\n",
    "In the next blog, we start working on python and try solve some basic problems.\n",
    "\n",
    "**Note : If you are not from coding background then don't worry I'll make each and every effort to get things described in a simple manner and will help you to move forward in career path of ML.**\n",
    "\n",
    "Happy learning!!!!!!!! and stay tuned for next blog....."
   ]
  }
 ],
 "metadata": {
  "kernelspec": {
   "display_name": "Python 3",
   "language": "python",
   "name": "python3"
  },
  "language_info": {
   "codemirror_mode": {
    "name": "ipython",
    "version": 3
   },
   "file_extension": ".py",
   "mimetype": "text/x-python",
   "name": "python",
   "nbconvert_exporter": "python",
   "pygments_lexer": "ipython3",
   "version": "3.7.3"
  }
 },
 "nbformat": 4,
 "nbformat_minor": 4
}
